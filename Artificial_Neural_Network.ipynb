{
  "nbformat": 4,
  "nbformat_minor": 0,
  "metadata": {
    "colab": {
      "name": "Artificial Neural Network.ipynb",
      "provenance": [],
      "collapsed_sections": []
    },
    "kernelspec": {
      "name": "python3",
      "display_name": "Python 3"
    }
  },
  "cells": [
    {
      "cell_type": "markdown",
      "metadata": {
        "id": "MmOJeot4k-5s"
      },
      "source": [
        "# Artificial Neural Network"
      ]
    },
    {
      "cell_type": "markdown",
      "metadata": {
        "id": "8d2-1_qdnPP8"
      },
      "source": [
        "## Importing the libraries"
      ]
    },
    {
      "cell_type": "code",
      "metadata": {
        "id": "ulWuCzLZlcbu"
      },
      "source": [
        "import pandas as pd\n",
        "import numpy as np\n",
        "import matplotlib.pyplot as plt\n",
        "import seaborn as sns"
      ],
      "execution_count": 1,
      "outputs": []
    },
    {
      "cell_type": "markdown",
      "metadata": {
        "id": "8gyja-OFlePs"
      },
      "source": [
        "## Importing the dataset"
      ]
    },
    {
      "cell_type": "code",
      "metadata": {
        "colab": {
          "base_uri": "https://localhost:8080/"
        },
        "id": "T-r2-sGLlkP7",
        "outputId": "c0c96eee-d9dc-44d4-db85-da00dcc06081"
      },
      "source": [
        "dataset = pd.read_csv('data.csv')\n",
        "del dataset[\"id\"]\n",
        "del dataset[\"age_days\"]\n",
        "print(dataset.head())\n",
        "\n",
        "#redundant data variables\n",
        "X = dataset.iloc[:, :-1].values\n",
        "y = dataset.iloc[:, -1].values\n",
        "\n",
        "X.reshape(-1,1)\n",
        "\n",
        "X.astype('float32')\n",
        "X = X / 255.0"
      ],
      "execution_count": 2,
      "outputs": [
        {
          "output_type": "stream",
          "text": [
            "    age_year  gender  height  weight  ap_hi  ...  gluc  smoke  alco  active  cardio\n",
            "0  50.391781       2     168    62.0    110  ...     1      0     0       1       0\n",
            "1  55.419178       1     156    85.0    140  ...     1      0     0       1       1\n",
            "2  51.663014       1     165    64.0    130  ...     1      0     0       0       1\n",
            "3  48.282192       2     169    82.0    150  ...     1      0     0       1       1\n",
            "4  47.873973       1     156    56.0    100  ...     1      0     0       0       0\n",
            "\n",
            "[5 rows x 12 columns]\n"
          ],
          "name": "stdout"
        }
      ]
    },
    {
      "cell_type": "markdown",
      "metadata": {
        "id": "XGR221ABll6u"
      },
      "source": [
        "##Visualize the data"
      ]
    },
    {
      "cell_type": "code",
      "metadata": {
        "id": "SUfAs8TuloO_"
      },
      "source": [
        "#sns.pairplot(dataset)      #using seaborn lib to visualize data"
      ],
      "execution_count": 3,
      "outputs": []
    },
    {
      "cell_type": "markdown",
      "metadata": {
        "id": "1x4gEwEHl9Mn"
      },
      "source": [
        "## Splitting the dataset into the Training set and Test set"
      ]
    },
    {
      "cell_type": "code",
      "metadata": {
        "id": "s230FijWmDZr"
      },
      "source": [
        "#spliting the data\n",
        "from sklearn.model_selection import train_test_split\n",
        "from keras.utils import to_categorical\n",
        "X_train, X_test, y_train, y_test = train_test_split(X, y, test_size = 0.30, random_state = 1)\n",
        "\n",
        "y_train = to_categorical(y_train)\n",
        "y_test = to_categorical(y_test)\n",
        "\n",
        "#scaling the data\n",
        "from sklearn.preprocessing import StandardScaler\n",
        "sc = StandardScaler()\n",
        "X_train = sc.fit_transform(X_train)\n",
        "X_test = sc.transform(X_test)\n",
        "\n"
      ],
      "execution_count": 4,
      "outputs": []
    },
    {
      "cell_type": "markdown",
      "metadata": {
        "id": "z0BNElDHmGXx"
      },
      "source": [
        "##Feature Scaling"
      ]
    },
    {
      "cell_type": "markdown",
      "metadata": {
        "id": "fHr6ULMEpSVh"
      },
      "source": [
        "##Building the model"
      ]
    },
    {
      "cell_type": "code",
      "metadata": {
        "id": "I_a025sVmWYq"
      },
      "source": [
        "import tensorflow.keras\n",
        "from keras.models import Sequential\n",
        "from keras.layers import Dense, MaxPooling2D, Flatten, Dropout, BatchNormalization, Conv2D\n",
        "from sklearn.preprocessing import MinMaxScaler\n",
        "from keras.optimizers import RMSprop, SGD, Adam\n"
      ],
      "execution_count": 5,
      "outputs": []
    },
    {
      "cell_type": "code",
      "metadata": {
        "colab": {
          "base_uri": "https://localhost:8080/"
        },
        "id": "l7uTmInbma9X",
        "outputId": "62b2f09d-b0ba-43ea-914e-823b309d0d04"
      },
      "source": [
        "#building different layers for the model\n",
        "model = Sequential()    #creating a sequential model\n",
        "model.add(Dense(32, activation = \"relu\",input_shape=(52380, 11)) )\n",
        "model.add(Dense(32, activation='relu'))    \n",
        "model.add(Dense(100, activation='relu'))              \n",
        "model.add(Dense(2, activation='relu')) \n",
        "                 \n",
        "model.summary()"
      ],
      "execution_count": 6,
      "outputs": [
        {
          "output_type": "stream",
          "text": [
            "Model: \"sequential\"\n",
            "_________________________________________________________________\n",
            "Layer (type)                 Output Shape              Param #   \n",
            "=================================================================\n",
            "dense (Dense)                (None, 52380, 32)         384       \n",
            "_________________________________________________________________\n",
            "dense_1 (Dense)              (None, 52380, 32)         1056      \n",
            "_________________________________________________________________\n",
            "dense_2 (Dense)              (None, 52380, 100)        3300      \n",
            "_________________________________________________________________\n",
            "dense_3 (Dense)              (None, 52380, 2)          202       \n",
            "=================================================================\n",
            "Total params: 4,942\n",
            "Trainable params: 4,942\n",
            "Non-trainable params: 0\n",
            "_________________________________________________________________\n"
          ],
          "name": "stdout"
        }
      ]
    },
    {
      "cell_type": "code",
      "metadata": {
        "id": "hRlR3tzumfB8"
      },
      "source": [
        "#building the model\n",
        "opt = Adam(lr=0.01)\n",
        "model.compile(optimizer=opt, loss='mean_squared_error',metrics=['accuracy'])  #using adam optimizer to update the \n",
        "                                                                              #weights and mean squared error is to be reduced"
      ],
      "execution_count": 7,
      "outputs": []
    },
    {
      "cell_type": "code",
      "metadata": {
        "id": "ICZXLXTbmjvc"
      },
      "source": [
        "#fitting the model\n",
        "epochs_hist = model.fit(X_train, y_train, epochs=100, batch_size=64, validation_split=0.2)\n",
        "#the traing of the model is done for 100 iteration "
      ],
      "execution_count": null,
      "outputs": []
    },
    {
      "cell_type": "markdown",
      "metadata": {
        "id": "2WpaNfgSmsVN"
      },
      "source": [
        "Evaluation of the model"
      ]
    },
    {
      "cell_type": "code",
      "metadata": {
        "id": "LUeAJJXfmtPd",
        "colab": {
          "base_uri": "https://localhost:8080/"
        },
        "outputId": "5a172078-e562-4915-dd53-8c0a3867b467"
      },
      "source": [
        "print(epochs_hist.history.keys())"
      ],
      "execution_count": 10,
      "outputs": [
        {
          "output_type": "stream",
          "text": [
            "dict_keys(['loss', 'accuracy', 'val_loss', 'val_accuracy'])\n"
          ],
          "name": "stdout"
        }
      ]
    },
    {
      "cell_type": "markdown",
      "metadata": {
        "id": "wmHet4IySQlD"
      },
      "source": [
        "Evaaluating the model on test data"
      ]
    },
    {
      "cell_type": "markdown",
      "metadata": {
        "id": "d4OYieQFTRgn"
      },
      "source": [
        "Generating Predictions"
      ]
    },
    {
      "cell_type": "code",
      "metadata": {
        "colab": {
          "base_uri": "https://localhost:8080/"
        },
        "id": "N1ZLLPhDTPgp",
        "outputId": "8ad8df80-e488-408d-bffc-59a1d8be9a2c"
      },
      "source": [
        "y_pred = model.predict(X_test)\n",
        "y_pred = y_pred.round()\n",
        "print(y_pred)\n",
        "y_pred = np.argmax(y_pred, axis=1)\n",
        "print(y_test)\n",
        "y_test = np.argmax(y_test, axis=1)"
      ],
      "execution_count": 13,
      "outputs": [
        {
          "output_type": "stream",
          "text": [
            "WARNING:tensorflow:Model was constructed with shape (None, 52380, 11) for input Tensor(\"dense_input:0\", shape=(None, 52380, 11), dtype=float32), but it was called on an input with incompatible shape (None, 11).\n",
            "[[0. 1.]\n",
            " [0. 1.]\n",
            " [1. 0.]\n",
            " ...\n",
            " [1. 0.]\n",
            " [0. 1.]\n",
            " [0. 1.]]\n",
            "[[1. 0.]\n",
            " [1. 0.]\n",
            " [0. 1.]\n",
            " ...\n",
            " [1. 0.]\n",
            " [1. 0.]\n",
            " [0. 1.]]\n"
          ],
          "name": "stdout"
        }
      ]
    },
    {
      "cell_type": "markdown",
      "metadata": {
        "id": "Uu1NqNKCUOH-"
      },
      "source": [
        "Evaluating the model"
      ]
    },
    {
      "cell_type": "code",
      "metadata": {
        "colab": {
          "base_uri": "https://localhost:8080/"
        },
        "id": "dYHq5wlbUQ9J",
        "outputId": "5dd0dc45-a6d0-4e6b-b61f-a7cd107a5a92"
      },
      "source": [
        "from sklearn.metrics import confusion_matrix, accuracy_score\n",
        "\n",
        "cm = confusion_matrix(y_test, y_pred)\n",
        "print(cm)\n",
        "accuracy_score(y_test, y_pred)\n",
        "#print(\"Accuracy:\",metrics.accuracy_score(y_test, y_pred))\n",
        "#print(\"Precision:\",metrics.precision_score(y_test, y_pred))\n",
        "#print(\"Recall:\",metrics.recall_score(y_test, y_pred))"
      ],
      "execution_count": 16,
      "outputs": [
        {
          "output_type": "stream",
          "text": [
            "[[7822 2660]\n",
            " [2935 7535]]\n"
          ],
          "name": "stdout"
        },
        {
          "output_type": "execute_result",
          "data": {
            "text/plain": [
              "0.7329610538373424"
            ]
          },
          "metadata": {
            "tags": []
          },
          "execution_count": 16
        }
      ]
    },
    {
      "cell_type": "code",
      "metadata": {
        "colab": {
          "base_uri": "https://localhost:8080/"
        },
        "id": "ygosBb7xQrLp",
        "outputId": "e76f6c43-e189-424b-e6bf-5c1403ad8fef"
      },
      "source": [
        "#per label classification\n",
        "from sklearn.metrics import classification_report\n",
        "print(classification_report(y_test, y_pred))"
      ],
      "execution_count": 15,
      "outputs": [
        {
          "output_type": "stream",
          "text": [
            "              precision    recall  f1-score   support\n",
            "\n",
            "           0       0.73      0.75      0.74     10482\n",
            "           1       0.74      0.72      0.73     10470\n",
            "\n",
            "    accuracy                           0.73     20952\n",
            "   macro avg       0.73      0.73      0.73     20952\n",
            "weighted avg       0.73      0.73      0.73     20952\n",
            "\n"
          ],
          "name": "stdout"
        }
      ]
    }
  ]
}