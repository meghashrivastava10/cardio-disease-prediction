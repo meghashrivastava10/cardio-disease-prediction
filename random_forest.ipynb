{
  "nbformat": 4,
  "nbformat_minor": 0,
  "metadata": {
    "colab": {
      "name": "random forest after feature.ipynb",
      "provenance": [],
      "collapsed_sections": []
    },
    "kernelspec": {
      "name": "python3",
      "display_name": "Python 3"
    }
  },
  "cells": [
    {
      "cell_type": "code",
      "metadata": {
        "id": "lRkg9cKwQCE_"
      },
      "source": [
        "#KNN\n",
        "import numpy as np\n",
        "import matplotlib.pyplot as plt\n",
        "import pandas as pd\n",
        "from sklearn import metrics\n",
        "\n",
        "from IPython.display import display, HTML\n",
        "from sklearn.ensemble import ExtraTreesClassifier\n",
        "\n",
        "dataset = pd.read_csv('data.csv')\n",
        "del dataset[\"id\"]\n",
        "del dataset[\"age_days\"]\n",
        "\n",
        "#redundant data variables\n",
        "display(HTML(dataset.head(10).to_html()))\n",
        "X = dataset.iloc[:, :-1]\n",
        "print(X)\n",
        "y = dataset.iloc[:, -1]\n",
        "print(y)\n",
        "\n",
        "#splitting the data\n",
        "from sklearn.model_selection import train_test_split\n",
        "X_train, X_test, y_train, y_test = train_test_split(X, y, test_size = 0.30, random_state = 1)\n",
        "\n",
        "#scaling the data\n",
        "from sklearn.preprocessing import StandardScaler\n",
        "sc = StandardScaler()\n",
        "X_train = sc.fit_transform(X_train)\n",
        "X_test = sc.transform(X_test)\n",
        "print(X_train)\n",
        "\n",
        "#building the model\n",
        "from sklearn.ensemble import RandomForestClassifier\n",
        "classifier = RandomForestClassifier(n_estimators = 10, criterion = 'entropy', random_state = 1)\n",
        "classifier.fit(X_train, y_train)\n",
        "\n",
        "#prediction\n",
        "y_pred = classifier.predict(X_test)\n",
        "print(y_pred)\n",
        "print(y_test)\n",
        "#print(np.concatenate((y_pred, y_test),1))\n",
        "\n",
        "#creating confusion matrix\n",
        "from sklearn.metrics import confusion_matrix, accuracy_score\n",
        "cm = confusion_matrix(y_test, y_pred)\n",
        "print(cm)\n",
        "accuracy_score(y_test, y_pred)\n",
        "\n",
        "print(\"Accuracy:\",metrics.accuracy_score(y_test, y_pred))\n",
        "print(\"Precision:\",metrics.precision_score(y_test, y_pred))\n",
        "print(\"Recall:\",metrics.recall_score(y_test, y_pred))\n"
      ],
      "execution_count": null,
      "outputs": []
    },
    {
      "cell_type": "code",
      "metadata": {
        "colab": {
          "base_uri": "https://localhost:8080/"
        },
        "id": "f9F5K7N5P9Sc",
        "outputId": "509da9d9-b3f2-4c13-daff-2077bed5d1fc"
      },
      "source": [
        "#per label classification\n",
        "from sklearn.metrics import classification_report\n",
        "print(classification_report(y_test, y_pred))"
      ],
      "execution_count": 2,
      "outputs": [
        {
          "output_type": "stream",
          "text": [
            "              precision    recall  f1-score   support\n",
            "\n",
            "           0       0.68      0.73      0.71     10482\n",
            "           1       0.71      0.65      0.68     10470\n",
            "\n",
            "    accuracy                           0.69     20952\n",
            "   macro avg       0.70      0.69      0.69     20952\n",
            "weighted avg       0.70      0.69      0.69     20952\n",
            "\n"
          ],
          "name": "stdout"
        }
      ]
    }
  ]
}